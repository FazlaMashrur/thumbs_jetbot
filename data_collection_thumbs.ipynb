{
 "cells": [
  {
   "cell_type": "markdown",
   "metadata": {},
   "source": [
    "# Thumbs demo - Data Collection\n",
    "\n",
    "In this set of notebooks, we're going to attempt to solve the problem using deep learning and a single, very versatile, sensor: the camera.  You'll see how with a neural network, camera, we can teach the network a very useful behavior!\n",
    "\n",
    "The way we'll do this is super simple:  \n",
    "\n",
    "First, we'll manually take snapshots with thumbs up and label these images ``thumbs up``.  We save a snapshot of what the camera sees along with this label.\n",
    "\n",
    "Second, we'll manually take snapshots with thumbs down and label these images ``free``.  Likewise, we save a snapshot along with this label.\n",
    "\n",
    "That's all that we'll do in this notebook; data collection.  Once we have lots of images and labels, we'll upload this data to a GPU enabled machine where we'll *train* a neural network to predict thumbs up or thumbs down"
   ]
  },
  {
   "cell_type": "markdown",
   "metadata": {},
   "source": [
    "### Display live camera feed\n",
    "\n",
    "So let's get started.  First, let's initialize and display our camera. \n",
    "\n",
    "> Our neural network takes a 224x224 pixel image as input.  We'll set our camera to maximum size and then downscale to the desired size later."
   ]
  },
  {
   "cell_type": "code",
   "execution_count": null,
   "metadata": {
    "scrolled": true
   },
   "outputs": [],
   "source": [
    "import traitlets\n",
    "import ipywidgets.widgets as widgets\n",
    "from IPython.display import display\n",
    "from jetbot import Camera, bgr8_to_jpeg\n",
    "\n",
    "camera = Camera.instance(width=224, height=224)\n",
    "image = widgets.Image(format='jpeg', width=224, height=224)  # this width and height doesn't necessarily have to match the camera\n",
    "camera_link = traitlets.dlink((camera, 'value'), (image, 'value'), transform=bgr8_to_jpeg)\n",
    "\n",
    "display(image)"
   ]
  },
  {
   "cell_type": "markdown",
   "metadata": {},
   "source": [
    "Awesome, next let's create a few directories where we'll store all our data.  We'll create a folder ``dataset`` that will contain two sub-folders ``thumbsup`` and ``thumbsdown``, \n",
    "where we'll place the images for each scenario."
   ]
  },
  {
   "cell_type": "code",
   "execution_count": null,
   "metadata": {},
   "outputs": [],
   "source": [
    "import os\n",
    "\n",
    "thumbsup_dir = 'dataset/thumbsup'\n",
    "thumbsdown_dir = 'dataset/thumbsdown'\n",
    "\n",
    "# we have this \"try/except\" statement because these next functions can throw an error if the directories exist already\n",
    "try:\n",
    "    os.makedirs(thumbsup_dir)\n",
    "    os.makedirs(thumbsdown_dir)\n",
    "    print('Directories created')\n",
    "except FileExistsError:\n",
    "    print('Directories not created becasue they already exist')"
   ]
  },
  {
   "cell_type": "markdown",
   "metadata": {},
   "source": [
    "If you refresh the Jupyter file browser on the left, you should now see those directories appear.  Next, let's create and display some buttons that we'll use to save snapshots\n",
    "for each class label.  We'll also add some text boxes that will display how many images of each category that we've collected so far. This is useful because we want to make\n",
    "sure we collect about as many ``thumbsup`` images as ``thumbsdown`` images.  It also helps to know how many images we've collected overall."
   ]
  },
  {
   "cell_type": "code",
   "execution_count": null,
   "metadata": {},
   "outputs": [],
   "source": [
    "import ipywidgets.widgets as widgets\n",
    "from IPython.display import display\n",
    "\n",
    "button_layout = widgets.Layout(width='128px', height='64px')\n",
    "thumbsup_button = widgets.Button(description='add thumbs up', button_style='success', layout=button_layout)\n",
    "thumbsdown_button = widgets.Button(description='add thumbs down', button_style='danger', layout=button_layout)\n",
    "thumbsup_count = widgets.IntText(layout=button_layout, value=len(os.listdir(thumbsup_dir)))\n",
    "thumbsdown_count = widgets.IntText(layout=button_layout, value=len(os.listdir(thumbsdown_dir)))\n",
    "\n",
    "display(widgets.HBox([thumbsup_count, thumbsup_button]))\n",
    "display(widgets.HBox([thumbsdown_count, thumbsdown_button]))"
   ]
  },
  {
   "cell_type": "markdown",
   "metadata": {},
   "source": [
    "Right now, these buttons wont do anything.  We have to attach functions to save images for each category to the buttons' ``on_click`` event.  We'll save the value\n",
    "of the ``Image`` widget (rather than the camera), because it's already in compressed JPEG format!\n",
    "\n",
    "To make sure we don't repeat any file names (even across different machines!) we'll use the ``uuid`` package in python, which defines the ``uuid1`` method to generate\n",
    "a unique identifier.  This unique identifier is generated from information like the current time and the machine address."
   ]
  },
  {
   "cell_type": "code",
   "execution_count": null,
   "metadata": {},
   "outputs": [],
   "source": [
    "from uuid import uuid1\n",
    "\n",
    "def save_snapshot(path, height=224, width=224):\n",
    "    image_path = os.path.join(path, str(uuid1()) + '.jpg')\n",
    "    with open(image_path, 'wb') as f:\n",
    "        f.write(image.value)\n",
    "\n",
    "def save_thumbsup():\n",
    "    global thumbsup_dir, thumbsup_count\n",
    "    save_snapshot(thumbsup_dir)\n",
    "    thumbsup_count.value = len(os.listdir(thumbsup_dir))\n",
    "    \n",
    "def save_thumbsdown():\n",
    "    global thumbsdown_dir, thumbsdown_count, camera\n",
    "    save_snapshot(thumbsdown_dir)\n",
    "    thumbsdown_count.value = len(os.listdir(thumbsdown_dir))\n",
    "    \n",
    "# attach the callbacks, we use a 'lambda' function to ignore the\n",
    "# parameter that the on_click event would provide to our function\n",
    "# because we don't need it.\n",
    "thumbsup_button.on_click(lambda x: save_thumbsup())\n",
    "thumbsdown_button.on_click(lambda x: save_thumbsdown())"
   ]
  },
  {
   "cell_type": "markdown",
   "metadata": {},
   "source": [
    "Great! Now the buttons above should save images to the ``thumbsup`` and ``thumbsdown`` directories.  You can use the Jupyter Lab file browser to view these files!\n",
    "\n",
    "Now go ahead and collect some data \n",
    "\n",
    "1. Place your hand in front of the camera with thumbsdown and press ``add thumbsdown``\n",
    "2. Place your hand in front of the camera with thumbsup and press ``add thumbsup``\n",
    "3. Repeat 1, 2\n",
    "\n",
    "> REMINDER: You can move the widgets to new windows by right clicking the cell and clicking ``Create New View for Output``.  Or, you can just re-display them\n",
    "> together as we will below\n",
    "\n",
    "Here are some tips for labeling data\n",
    "\n",
    "1. Try different orientations\n",
    "2. Try different lighting\n",
    "4. Try different hands\n",
    "\n",
    "It's important to get *varied* data (as described by the above tips) and not just a lot of data, but you'll probably need at least 100 images of each class (that's not a science, just a helpful tip here).  But don't worry, it goes pretty fast once you get going :)"
   ]
  },
  {
   "cell_type": "code",
   "execution_count": null,
   "metadata": {},
   "outputs": [],
   "source": [
    "display(image)\n",
    "display(widgets.HBox([thumbsup_count, thumbsup_button]))\n",
    "display(widgets.HBox([thumbsdown_count, thumbsdown_button]))"
   ]
  },
  {
   "cell_type": "markdown",
   "metadata": {},
   "source": [
    "## Next\n",
    "\n",
    "Once you've collected enough data, we'll need to train our model with these data"
   ]
  },
  {
   "cell_type": "code",
   "execution_count": null,
   "metadata": {},
   "outputs": [],
   "source": [
    "camera.stop()"
   ]
  }
 ],
 "metadata": {
  "kernelspec": {
   "display_name": "Python 3",
   "language": "python",
   "name": "python3"
  },
  "language_info": {
   "codemirror_mode": {
    "name": "ipython",
    "version": 3
   },
   "file_extension": ".py",
   "mimetype": "text/x-python",
   "name": "python",
   "nbconvert_exporter": "python",
   "pygments_lexer": "ipython3",
   "version": "3.6.8"
  }
 },
 "nbformat": 4,
 "nbformat_minor": 4
}
